{
 "cells": [
  {
   "cell_type": "code",
   "execution_count": null,
   "metadata": {
    "vscode": {
     "languageId": "plaintext"
    }
   },
   "outputs": [],
   "source": [
    "echo \"Read the following Wikipedia article and decide which category it belongs to: History, Science, Art, Literature, Technology, General Information. Article text: <ARTICLE_TEXT> Answer with only one word, the correct category.\" \n",
    "| build/bin/llama-cli -m models/mistral-7b-v0.1.Q4_K_M.gguf --chat-template chatml"
   ]
  },
  {
   "cell_type": "code",
   "execution_count": null,
   "metadata": {
    "vscode": {
     "languageId": "plaintext"
    }
   },
   "outputs": [],
   "source": [
    "echo \"Read the following Wikipedia article and decide which category it belongs to: History, Science, Art, Literature, Technology, General Information. Article text: Farming is growing crops and keeping animals for food and raw materials. Farming is a major part of agriculture. Farming started thousands of years ago, but no one knows for sure how old it is. The development of farming gave rise to the Neolithic Revolution as people gave up nomadic hunting and became settlers in cities. Farming and domestication probably started in the Fertile Crescent (the Nile Valley, the Levant and Mesopotamia). The area called Fertile Crescent is now in the countries of Iraq, Syria, Turkey, Jordan, Lebanon, Israel, and Egypt. Wheat and barley are some of the first crops people grew. Cotton was domesticated in Peru by 4200 BC. Livestock including horses, cattle, sheep, and goats were taken to the Americas, from the Old World. The first of those horses, came with the Spanish conquistadors (or soldiers and explorers) in the 1490s. Moving those cattle, sheep, goats and horses, were part of the Columbian Exchange. People probably started agriculture by planting a few crops, but still gathered many foods from the wild. People may have started farming because the weather and soil began to change. Farming can feed many more people than hunter-gatherers can feed on the same amount of land. This allowed the human population to grow to such large numbers as there are today. Many people still live by subsistence farming, on a small farm. They can only grow enough food to feed the farmer, his family, and his animals. The yield is the amount of food grown on a given amount of land, and it is often low. Answer with only one word, the correct category.\" | build/bin/llama-cli -m models/mistral-7b-v0.1.Q4_K_M.gguf --chat-template chatml"
   ]
  },
  {
   "cell_type": "code",
   "execution_count": null,
   "metadata": {
    "vscode": {
     "languageId": "shellscript"
    }
   },
   "outputs": [],
   "source": [
    "#!/bin/bash\n",
    "\n",
    "INPUT_FILE=\"AllCombined.csv\"\n",
    "OUTPUT_FILE=\"Categorized_Articles.csv\"\n",
    "MODEL=\"models/mistral-7b-v0.1.Q4_K_M.gguf\"\n",
    "LIMIT=5  # Limitáljuk az első 5 cikkre\n",
    "\n",
    "# Reset output file\n",
    "echo \"title,category,content\" > \"$OUTPUT_FILE\"\n",
    "\n",
    "COUNT=0\n",
    "\n",
    "# Read the CSV file line by line\n",
    "tail -n +2 \"$INPUT_FILE\" | while IFS=',' read -r title content; do\n",
    "    if [ \"$COUNT\" -ge \"$LIMIT\" ]; then\n",
    "        break\n",
    "    fi\n",
    "\n",
    "    # Rövidítsük le az elemzést, hogy gyorsabb legyen\n",
    "    SHORT_CONTENT=$(echo \"$content\" | cut -c 1-500)\n",
    "\n",
    "    # Prompt az egyszerű, nem interaktív bemenethez\n",
    "    PROMPT=\"Read the following Wikipedia article and decide which category it belongs to: History, Science, Art, Literature, Technology, General Information, Article text: $SHORT_CONTENT Answer with only one word, the correct category.\"\n",
    "\n",
    "    # Run Mistral 7B inference in direct mode\n",
    "    CATEGORY=$(build/bin/llama-cli -m \"$MODEL\" -p \"$PROMPT\" --temp 0.0 --top-k 1 --top-p 0.1 -n 1)\n",
    "\n",
    "    # Save the result to CSV\n",
    "    echo \"$title,$CATEGORY,$content\" >> \"$OUTPUT_FILE\"\n",
    "\n",
    "    # Increment counter\n",
    "    COUNT=$((COUNT+1))\n",
    "\n",
    "done\n"
   ]
  }
 ],
 "metadata": {
  "language_info": {
   "name": "python"
  }
 },
 "nbformat": 4,
 "nbformat_minor": 2
}
