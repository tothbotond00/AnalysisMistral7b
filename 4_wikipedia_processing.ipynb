{
 "cells": [
  {
   "cell_type": "markdown",
   "id": "efa65e3e",
   "metadata": {},
   "source": [
    "# Wikipédia Cikkek Feldolgozása\n",
    "Ez a Jupyter Notebook a Wikipédia szöveges adathalmaz feldolgozását végzi, beleértve a cikkek címének azonosítását és azok szövegeinek egyesítését egy struktúrált formátumba."
   ]
  },
  {
   "cell_type": "code",
   "execution_count": null,
   "id": "31ea71a8",
   "metadata": {},
   "outputs": [],
   "source": [
    "import os\n",
    "import pandas as pd"
   ]
  },
  {
   "cell_type": "markdown",
   "id": "1b423abf",
   "metadata": {},
   "source": [
    "## 1️⃣ Fájl beolvasása és előkészítése\n",
    "Az adathalmaz szövegfájlból (`AllCombined.txt`) kerül beolvasásra, majd feldolgozásra kerülnek a cikkek."
   ]
  },
  {
   "cell_type": "code",
   "execution_count": null,
   "id": "2940cc4d",
   "metadata": {},
   "outputs": [],
   "source": [
    "\n",
    "text_file_path = \"./AllCombined.txt\"\n",
    "\n",
    "# Process the text file and split it into articles\n",
    "articles = []\n",
    "current_title = None\n",
    "current_content = []\n",
    "\n",
    "# Read and process the entire file\n",
    "with open(text_file_path, \"r\", encoding=\"utf-8\") as file:\n",
    "    for line in file:\n",
    "        line = line.strip()  # Remove unnecessary whitespace\n",
    "        \n",
    "        if not line:  # Skip empty lines\n",
    "            continue\n",
    "        \n",
    "        # If the line contains a single word (likely a title)\n",
    "        if len(line.split()) == 1 and line.istitle():\n",
    "            # Store previous article if exists\n",
    "            if current_title and current_content:\n",
    "                articles.append({\"title\": current_title, \"content\": \" \".join(current_content)})\n",
    "            \n",
    "            # Start a new article\n",
    "            current_title = line\n",
    "            current_content = []\n",
    "        else:\n",
    "            # Add to the current article content\n",
    "            current_content.append(line)\n",
    "\n",
    "# Add the last article to the list\n",
    "if current_title and current_content:\n",
    "    articles.append({\"title\": current_title, \"content\": \" \".join(current_content)})\n"
   ]
  },
  {
   "cell_type": "markdown",
   "id": "04e9e7c3",
   "metadata": {},
   "source": [
    "## 2️⃣ Az adatok mentése CSV formátumban\n",
    "A feldolgozott cikkek mentésre kerülnek egy CSV fájlba (`AllCombined.csv`)."
   ]
  },
  {
   "cell_type": "code",
   "execution_count": null,
   "id": "6593ec44",
   "metadata": {},
   "outputs": [],
   "source": [
    "\n",
    "# Convert to DataFrame and save as CSV\n",
    "df_articles = pd.DataFrame(articles)\n",
    "df_articles.to_csv('AllCombined.csv', index=False)\n"
   ]
  }
 ],
 "metadata": {},
 "nbformat": 4,
 "nbformat_minor": 5
}
