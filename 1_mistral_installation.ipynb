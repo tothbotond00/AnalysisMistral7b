{
 "cells": [
  {
   "cell_type": "markdown",
   "id": "1ad10eb6",
   "metadata": {},
   "source": [
    "# Mistral Inference Local Installation Guide\n",
    "This notebook provides step-by-step instructions for installing **Mistral 7B** inference locally on **Windows 11** with **Python 3.10 or 3.11**."
   ]
  },
  {
   "cell_type": "markdown",
   "id": "4369dc4c",
   "metadata": {},
   "source": [
    "## Step 1: Verify Python Version\n",
    "Ensure that you are using **Python 3.10 or 3.11** (Python 3.13 is not fully supported)."
   ]
  },
  {
   "cell_type": "raw",
   "id": "3b479aee",
   "metadata": {
    "vscode": {
     "languageId": "raw"
    }
   },
   "source": [
    "python --version"
   ]
  },
  {
   "cell_type": "markdown",
   "id": "dd612a75",
   "metadata": {},
   "source": [
    "If you are using **Python 3.13**, uninstall it and install Python 3.11 from:\n",
    "[Download Python 3.11](https://www.python.org/downloads/release/python-3116/)"
   ]
  },
  {
   "cell_type": "markdown",
   "id": "496d0d79",
   "metadata": {},
   "source": [
    "## Step 2: Create and Activate a Virtual Environment"
   ]
  },
  {
   "cell_type": "raw",
   "id": "e7e4d53d",
   "metadata": {
    "vscode": {
     "languageId": "raw"
    }
   },
   "source": [
    "python -m venv mistral_env\n",
    "mistral_env\\Scripts\\activate"
   ]
  },
  {
   "cell_type": "markdown",
   "id": "028f1cc4",
   "metadata": {},
   "source": [
    "## Step 3: Install PyTorch\n",
    "Install the correct version of PyTorch before installing `mistral-inference`. Choose one option below depending on your hardware."
   ]
  },
  {
   "cell_type": "raw",
   "id": "7695e219",
   "metadata": {
    "vscode": {
     "languageId": "raw"
    }
   },
   "source": [
    "# If you have an NVIDIA GPU (CUDA 12.1):\n",
    "pip install torch torchvision torchaudio --index-url https://download.pytorch.org/whl/cu121"
   ]
  },
  {
   "cell_type": "raw",
   "id": "1f5b4a9e",
   "metadata": {
    "vscode": {
     "languageId": "raw"
    }
   },
   "source": [
    "# If you want a CPU-only installation:\n",
    "pip install torch torchvision torchaudio --index-url https://download.pytorch.org/whl/cpu"
   ]
  },
  {
   "cell_type": "code",
   "execution_count": 1,
   "id": "b1200e92",
   "metadata": {},
   "outputs": [
    {
     "name": "stdout",
     "output_type": "stream",
     "text": [
      "False\n"
     ]
    }
   ],
   "source": [
    "# Verify PyTorch installation:\n",
    "import torch\n",
    "print(torch.cuda.is_available())  # Should print True if CUDA is working"
   ]
  },
  {
   "cell_type": "markdown",
   "id": "70d54b4f",
   "metadata": {},
   "source": [
    "## Step 4: Install Dependencies\n",
    "Install required dependencies manually to avoid issues."
   ]
  },
  {
   "cell_type": "raw",
   "id": "b79a4f28",
   "metadata": {
    "vscode": {
     "languageId": "raw"
    }
   },
   "source": [
    "pip install cython numpy scipy sentencepiece \n",
    "pip install xformers --index-url https://download.pytorch.org/whl/cu121"
   ]
  },
  {
   "cell_type": "markdown",
   "id": "4f868e45",
   "metadata": {},
   "source": [
    "## Step 5: Install Mistral Inference\n",
    "Try installing the package via pip. If it fails, use the GitHub source method."
   ]
  },
  {
   "cell_type": "raw",
   "id": "43c41985",
   "metadata": {
    "vscode": {
     "languageId": "raw"
    }
   },
   "source": [
    "# Install via pip:\n",
    "pip install mistral-inference"
   ]
  },
  {
   "cell_type": "raw",
   "id": "39e48367",
   "metadata": {
    "vscode": {
     "languageId": "raw"
    }
   },
   "source": [
    "# If the above fails, install from GitHub source:\n",
    "git clone https://github.com/mistralai/mistral-inference.git\n",
    "cd mistral-inference && pip install ."
   ]
  },
  {
   "cell_type": "markdown",
   "id": "6cbedd6b",
   "metadata": {},
   "source": [
    "## Step 6: Verify Installation\n",
    "Run the following script to test if Mistral is working properly."
   ]
  },
  {
   "cell_type": "code",
   "execution_count": null,
   "id": "fc81db5d",
   "metadata": {},
   "outputs": [],
   "source": [
    "from mistral_inference import Model\n",
    "model = Model('./mistral_7b_instruct_v3/tokenizer.model.v3')\n",
    "output = model.generate('What is the capital of France?')\n",
    "print(output)"
   ]
  },
  {
   "cell_type": "markdown",
   "id": "a262e19d",
   "metadata": {},
   "source": [
    "## 🎉 Installation Complete!\n",
    "If everything worked correctly, you should see the model's response to your query."
   ]
  }
 ],
 "metadata": {
  "kernelspec": {
   "display_name": ".venv",
   "language": "python",
   "name": "python3"
  },
  "language_info": {
   "codemirror_mode": {
    "name": "ipython",
    "version": 3
   },
   "file_extension": ".py",
   "mimetype": "text/x-python",
   "name": "python",
   "nbconvert_exporter": "python",
   "pygments_lexer": "ipython3",
   "version": "3.11.6"
  }
 },
 "nbformat": 4,
 "nbformat_minor": 5
}
